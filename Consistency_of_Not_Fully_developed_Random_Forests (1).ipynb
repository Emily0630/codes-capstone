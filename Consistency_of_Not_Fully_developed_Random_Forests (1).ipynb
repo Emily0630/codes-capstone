{
  "nbformat": 4,
  "nbformat_minor": 0,
  "metadata": {
    "colab": {
      "name": "Consistency of Not Fully-developed Random Forests.ipynb",
      "provenance": [],
      "collapsed_sections": []
    },
    "kernelspec": {
      "display_name": "Python 3",
      "name": "python3"
    },
    "language_info": {
      "name": "python"
    }
  },
  "cells": [
    {
      "cell_type": "markdown",
      "metadata": {
        "id": "FZ0S1an4Ocku"
      },
      "source": [
        "$\\textbf{Notation}$ "
      ]
    },
    {
      "cell_type": "markdown",
      "metadata": {
        "id": "mxIYADjXOhpH"
      },
      "source": [
        "\n",
        "*   $n$ is the size of the data size.\n",
        "*   $a_n \\in \\{1,\\cdots,n\\}$ represents the number of sampled data points in each tree\n",
        "*   $t_{n} \\in \\{1,\\cdots,a_n\\}$ represents the (maximum) number of leaves in each tree.\n",
        "*  $M$ is the number of trees in each forest."
      ]
    },
    {
      "cell_type": "markdown",
      "metadata": {
        "id": "MLSODD58Gfj4"
      },
      "source": [
        "$\\textbf{Theory}$"
      ]
    },
    {
      "cell_type": "markdown",
      "metadata": {
        "id": "JZYZHoN-D8vf"
      },
      "source": [
        "As in the paper, we assume that the response satisties  $Y = \\sum^{p}_{j=1} m_{j}(X^{(j)}) + ϵ$, where $X = (X^{(1)},\\ldots,X^{(p)})$ is uniformly distributed over $[0,1]^p$, $ϵ$ is an independent centered Gaussian noise with finite variance and each $m_{j}$ is a continuous."
      ]
    },
    {
      "cell_type": "markdown",
      "metadata": {
        "id": "80pTiZdLETpD"
      },
      "source": [
        "Thereom:\n",
        "Provided $a_n\\rightarrow \\infty$, $t_n\\rightarrow \\infty$ and $t_n(loga_n)^9/a_n\\rightarrow0$, random forests are consistent, that is,\n",
        "$\\lim\\limits_{n\\rightarrow\\infty} E[(m_n(X)-m(X))^2]=0$"
      ]
    },
    {
      "cell_type": "markdown",
      "metadata": {
        "id": "EwljFSB0Gjz2"
      },
      "source": [
        "$\\textbf{Experiment}$"
      ]
    },
    {
      "cell_type": "markdown",
      "metadata": {
        "id": "MCIW_12qGb9F"
      },
      "source": [
        "Our underlying true regression function is $m(x) = 10sin(\\pi x_{1}x_{2}) + 20(x_{3}-0.05)^2 + 10x_{4} + 5x_{5}$, where $\\textbf{X} \\in [0,1]^{5}$"
      ]
    },
    {
      "cell_type": "markdown",
      "metadata": {
        "id": "Z5lWxE1IG4u0"
      },
      "source": [
        "We have 10 iterations, 10 trees in each forest in this experiment. \\\\\n",
        "To see the trend of $E[(m_n(X)-m(X))^2]$' behavior as $n \\rightarrow \\infty$, we have n as $ 2^0 *1000, 2^1 * 1000, 2^2 * 1000, ..., 2^9 *1000 $; \\\\\n",
        "To satisfy that $a_n \\in \\{1,\\cdots,n\\}$ and $a_n\\rightarrow \\infty$, we let $a_{n} = n$ in each iteration. $a_{n} = n$ is set by default in random forests regressor algorithm; \\\\\n",
        "To satisfy that $t_{n} \\in \\{1,\\cdots,a_n\\}$ and $t_n\\rightarrow \\infty$, we let $t_{n} = n^{0.7}$ in each iteration. In random forests regressor algorithm, max_leaf_nodes represents $t_{n}$; \\\\\n",
        "Also under this definition, $t_n(loga_n)^9/a_n = (log n) ^9 / n ^{0.3} \\rightarrow0$ as $n \\rightarrow \\infty$."
      ]
    },
    {
      "cell_type": "code",
      "metadata": {
        "id": "2IkLO_S3EDyB"
      },
      "source": [
        "import numpy as np \n",
        "import pandas as pd\n",
        "import matplotlib.pyplot as plt\n",
        "import sklearn\n",
        "from scipy.sparse import data\n",
        "from sklearn.ensemble import RandomForestRegressor\n",
        "from sklearn.utils import resample\n",
        "from sklearn.tree import DecisionTreeRegressor\n",
        "from sklearn.model_selection import GridSearchCV"
      ],
      "execution_count": null,
      "outputs": []
    },
    {
      "cell_type": "code",
      "metadata": {
        "id": "q2yUC0ICHDY6"
      },
      "source": [
        "def m(x):\n",
        "  # x is a numpy array with 5 components\n",
        "  return 10*np.sin(np.pi*x[:,0]*x[:,1]) + 20*(x[:,2]-0.05)**2 + 10*x[:,3] + 5*x[:,4]"
      ],
      "execution_count": null,
      "outputs": []
    },
    {
      "cell_type": "code",
      "metadata": {
        "id": "VhMx2nIxOy7w"
      },
      "source": [
        "def small_noise_Y(x): \n",
        "  noise = np.random.normal(0,0.1) \n",
        "  Y = m(x) + noise\n",
        "  return Y"
      ],
      "execution_count": null,
      "outputs": []
    },
    {
      "cell_type": "code",
      "metadata": {
        "id": "_1UB3NY0qEKb"
      },
      "source": [
        "def large_noise_Y(x): \n",
        "  noise = np.random.normal(0,1) \n",
        "  Y = m(x) + noise\n",
        "  return Y"
      ],
      "execution_count": null,
      "outputs": []
    },
    {
      "cell_type": "markdown",
      "metadata": {
        "id": "lL7Ol8FwqMbu"
      },
      "source": [
        "Without Noise Case:"
      ]
    },
    {
      "cell_type": "code",
      "metadata": {
        "colab": {
          "base_uri": "https://localhost:8080/",
          "height": 283
        },
        "id": "NUw5CE-YqhcO",
        "outputId": "5878f647-0346-4537-8672-fdce345c41f6"
      },
      "source": [
        "ITER = 10\n",
        "p = 5 # dimension of x\n",
        "data_size= 1000\n",
        "M = 500\n",
        "loss_table = np.zeros(ITER)\n",
        "data_table = np.zeros(ITER)\n",
        "for i in range(ITER):\n",
        "    data_size = 1000 * 2**i\n",
        "    regressor = RandomForestRegressor(M,max_leaf_nodes = int(data_size**0.7))\n",
        "    X_train = np.random.uniform(low=0, high=1, size=(data_size,p))\n",
        "    Y_train = m(X_train)\n",
        "    X_test = np.random.uniform(low=0, high=1, size=(1000,p))\n",
        "    Y_test = m(X_test)\n",
        "    regressor.fit(X_train, Y_train)\n",
        "    Y_predicted = regressor.predict(X_test)\n",
        "    loss = sklearn.metrics.mean_squared_error(Y_predicted, Y_test)\n",
        "    data_table[i] = data_size\n",
        "    loss_table[i] = loss\n",
        "plt.plot(data_table,loss_table)"
      ],
      "execution_count": null,
      "outputs": [
        {
          "output_type": "execute_result",
          "data": {
            "text/plain": [
              "[<matplotlib.lines.Line2D at 0x7f841b18c650>]"
            ]
          },
          "metadata": {},
          "execution_count": 8
        },
        {
          "output_type": "display_data",
          "data": {
            "image/png": "[encoded data removed]",
            "text/plain": [
              "<Figure size 432x288 with 1 Axes>"
            ]
          },
          "metadata": {
            "needs_background": "light"
          }
        }
      ]
    },
    {
      "cell_type": "markdown",
      "metadata": {
        "id": "U7pEaR0XQ5yM"
      },
      "source": [
        "With Small Noise Case:"
      ]
    },
    {
      "cell_type": "code",
      "metadata": {
        "colab": {
          "base_uri": "https://localhost:8080/",
          "height": 283
        },
        "id": "Vm62GeL7HfQA",
        "outputId": "eea96067-4595-49c4-9c85-31262d83b660"
      },
      "source": [
        "ITER = 10\n",
        "p = 5 # dimension of x\n",
        "data_size= 1000\n",
        "M = 500\n",
        "loss_table = np.zeros(ITER)\n",
        "data_table = np.zeros(ITER)\n",
        "for i in range(ITER):\n",
        "    data_size = 1000 * 2**i\n",
        "    regressor = RandomForestRegressor(M,max_leaf_nodes = int(data_size**0.7))\n",
        "    X_train = np.random.uniform(low=0, high=1, size=(data_size,p))\n",
        "    Y_train = small_noise_Y(X_train)\n",
        "    X_test = np.random.uniform(low=0, high=1, size=(1000,p))\n",
        "    Y_test = m(X_test)\n",
        "    regressor.fit(X_train, Y_train)\n",
        "    Y_predicted = regressor.predict(X_test)\n",
        "    loss = sklearn.metrics.mean_squared_error(Y_predicted, Y_test)\n",
        "    data_table[i] = data_size\n",
        "    loss_table[i] = loss\n",
        "\n",
        "plt.plot(data_table,loss_table)"
      ],
      "execution_count": null,
      "outputs": [
        {
          "output_type": "execute_result",
          "data": {
            "text/plain": [
              "[<matplotlib.lines.Line2D at 0x7f841b32e950>]"
            ]
          },
          "metadata": {},
          "execution_count": 6
        },
        {
          "output_type": "display_data",
          "data": {
            "image/png": "[encoded data removed]",
            "text/plain": [
              "<Figure size 432x288 with 1 Axes>"
            ]
          },
          "metadata": {
            "needs_background": "light"
          }
        }
      ]
    },
    {
      "cell_type": "code",
      "metadata": {
        "id": "g4IIH6pkyYOd"
      },
      "source": [
        "#X = np.linspace(1,ITER,ITER)\n",
        "#plt.plot(X,loss_table)"
      ],
      "execution_count": null,
      "outputs": []
    },
    {
      "cell_type": "markdown",
      "metadata": {
        "id": "BT7sITlWQ96I"
      },
      "source": [
        "With Large Noise Case:"
      ]
    },
    {
      "cell_type": "code",
      "metadata": {
        "colab": {
          "base_uri": "https://localhost:8080/",
          "height": 283
        },
        "id": "YAmH3MRFRBeG",
        "outputId": "998416e6-943e-49a2-810f-9b5e4951f3dd"
      },
      "source": [
        "ITER = 10\n",
        "p = 5 # dimension of x\n",
        "data_size= 1000\n",
        "M = 10\n",
        "loss_table = np.zeros(ITER)\n",
        "data_table = np.zeros(ITER)\n",
        "for i in range(ITER):\n",
        "    data_size = 1000 * 2**i\n",
        "    regressor = RandomForestRegressor(M,max_leaf_nodes = int(data_size**0.7))\n",
        "    X_train = np.random.uniform(low=0, high=1, size=(data_size,p))\n",
        "    Y_train = large_noise_Y(X_train)\n",
        "    X_test = np.random.uniform(low=0, high=1, size=(1000,p))\n",
        "    Y_test = m(X_test)\n",
        "    regressor.fit(X_train, Y_train)\n",
        "    Y_predicted = regressor.predict(X_test)\n",
        "    loss = sklearn.metrics.mean_squared_error(Y_predicted, Y_test)\n",
        "    data_table[i] = data_size\n",
        "    loss_table[i] = loss\n",
        "plt.plot(data_table,loss_table)"
      ],
      "execution_count": null,
      "outputs": [
        {
          "output_type": "execute_result",
          "data": {
            "text/plain": [
              "[<matplotlib.lines.Line2D at 0x7f841b1ec2d0>]"
            ]
          },
          "metadata": {},
          "execution_count": 10
        },
        {
          "output_type": "display_data",
          "data": {
            "image/png": "[encoded data removed]",
            "text/plain": [
              "<Figure size 432x288 with 1 Axes>"
            ]
          },
          "metadata": {
            "needs_background": "light"
          }
        }
      ]
    },
    {
      "cell_type": "code",
      "metadata": {
        "id": "Q46b8ihlRCYJ",
        "colab": {
          "base_uri": "https://localhost:8080/",
          "height": 283
        },
        "outputId": "f66bb4b5-a6a6-4d50-91ed-365cfa9b9880"
      },
      "source": [
        "ITER = 6\n",
        "p = 5 # dimension of x\n",
        "data_size= 1000\n",
        "M = 10\n",
        "loss_table = np.zeros(ITER)\n",
        "data_table = np.zeros(ITER)\n",
        "for i in range(ITER):\n",
        "    data_size = 1000 * 2**i\n",
        "    regressor = RandomForestRegressor(M,max_leaf_nodes = int(data_size**0.7))\n",
        "    X_train = np.random.uniform(low=0, high=1, size=(data_size,p))\n",
        "    Y_train = m(X_train)\n",
        "    X_test = np.random.uniform(low=0, high=1, size=(1000,p))\n",
        "    Y_test = m(X_test)\n",
        "    regressor.fit(X_train, Y_train)\n",
        "    Y_predicted = regressor.predict(X_test)\n",
        "    loss = sklearn.metrics.mean_squared_error(Y_predicted, Y_test)\n",
        "    data_table[i] = data_size\n",
        "    loss_table[i] = loss\n",
        "plt.plot(data_table,loss_table)"
      ],
      "execution_count": null,
      "outputs": [
        {
          "output_type": "execute_result",
          "data": {
            "text/plain": [
              "[<matplotlib.lines.Line2D at 0x7f841b2d09d0>]"
            ]
          },
          "metadata": {},
          "execution_count": 11
        },
        {
          "output_type": "display_data",
          "data": {
            "image/png": "[encoded data removed]",
            "text/plain": [
              "<Figure size 432x288 with 1 Axes>"
            ]
          },
          "metadata": {
            "needs_background": "light"
          }
        }
      ]
    },
    {
      "cell_type": "code",
      "metadata": {
        "colab": {
          "base_uri": "https://localhost:8080/",
          "height": 283
        },
        "id": "O26jzOj_1_an",
        "outputId": "b7eb5a45-5984-427f-fc59-fbe5f196beed"
      },
      "source": [
        "ITER = 10\n",
        "p = 5 # dimension of x\n",
        "data_size= 1000\n",
        "M = 10\n",
        "loss_table = np.zeros(ITER)\n",
        "data_table = np.zeros(ITER)\n",
        "for i in range(ITER):\n",
        "    data_size = 1000\n",
        "    regressor = RandomForestRegressor(M,max_leaf_nodes = int(data_size**0.7))\n",
        "    X_train = np.random.uniform(low=0, high=1, size=(data_size,p))\n",
        "    Y_train = m(X_train)\n",
        "    X_test = np.random.uniform(low=0, high=1, size=(1000,p))\n",
        "    Y_test = m(X_test)\n",
        "    regressor.fit(X_train, Y_train)\n",
        "    Y_predicted = regressor.predict(X_test)\n",
        "    loss = sklearn.metrics.mean_squared_error(Y_predicted, Y_test)\n",
        "    data_table[i] = M\n",
        "    loss_table[i] = loss\n",
        "    M = 2 * M\n",
        "plt.plot(data_table,loss_table)"
      ],
      "execution_count": null,
      "outputs": [
        {
          "output_type": "execute_result",
          "data": {
            "text/plain": [
              "[<matplotlib.lines.Line2D at 0x7f841aeccd50>]"
            ]
          },
          "metadata": {},
          "execution_count": 15
        },
        {
          "output_type": "display_data",
          "data": {
            "image/png": "[encoded data removed]",
            "text/plain": [
              "<Figure size 432x288 with 1 Axes>"
            ]
          },
          "metadata": {
            "needs_background": "light"
          }
        }
      ]
    },
    {
      "cell_type": "code",
      "metadata": {
        "id": "_DDqgx7xMk8C"
      },
      "source": [
        ""
      ],
      "execution_count": null,
      "outputs": []
    }
  ]
}